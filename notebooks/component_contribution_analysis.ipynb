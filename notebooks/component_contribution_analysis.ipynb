{
 "cells": [
  {
   "cell_type": "markdown",
   "metadata": {},
   "source": [
    "# Component contribution analysis\n",
    "\n",
    "From the hyperparameter tuning step, we have selected a set of parameters ($\\lambda$,  $ \\vartheta$, k) with largest **LLPD$_o$**.  \n",
    "\n",
    "Here we aim to evaluate the contribution of each of the components in the generative model (MEM). The generative model for the ocean microbiome data for the microbial abundance data consists of **geochemical component**, **spatio-temporal components indicating geographical location, ocean depth and time** and **species-species interaction component**. To understand their  contribution in the MEM, we drop each of the specific component in the generative model, estimate the variational posterior and then evaluate the model performance in terms of the **out of sample log-likelihood predictive density (LLPD$_o$)**.\n",
    "\n",
    "\n",
    "Steps of the analysis\n",
    " + Define component excluded generative model\n",
    " + Python script for the variational posterior estimation: **component_contribution_fit.py**\n",
    " + Script to call component excluded generative model  \n",
    " + Evaluate the model in terms of the **LLPD$_o$**\n",
    "\n",
    " \n",
    "#### Component excluded generative model\n",
    "We have defined the component excluded stan model (see stan_model folder) in the following files:\n",
    " + **NB_microbe_ppc.stan** : Full model [Model = 0]\n",
    " + **NB_microbe_ppc-1.stan** : Province component dropped  [Model = 1]\n",
    " + **NB_microbe_ppc-2.stan** : Biome component dropped  [Model = 2]\n",
    " + **NB_microbe_ppc-3.stan** : Quarter/Time component dropped  [Model = 3]\n",
    " + **NB_microbe_ppc-G.stan** : Geochemical component dropped  [Model = 4]\n",
    " + **NB_microbe_ppc_nointer.stan** : Species-species interaction component dropped  [Model = 5]"
   ]
  },
  {
   "cell_type": "markdown",
   "metadata": {},
   "source": [
    "#### Script to evaluate the model\n",
    "For the chosen set of hyperparameters, we compute the variational posterior of each the **component excluded generative model** for **twenty** different initialization. We have saved the command calling **component_contribution_fit.py** for each of the  **component excluded generative model** in the file **mem_component_contribution** (see the python cript below to generate the file).\n",
    "\n",
    "A line in the file **mem_component_contribution** calls the python script **component_contribution_fit.py** for a given choice of the parameters. \n",
    "\n",
    "*module purge ; module load slurm gcc python3 ; OMP_NUM_THREADS=1 python3 component_contribution_fit.py 100.0 0.219 0.06503 0.1 200 1 0 1.0 > logfile/1.log 2>&1*\n",
    "\n",
    "Input parameters for a setting includes **latent rank (k),  $\\lambda$,  $\\vartheta$, test sample proportion, variational posterior sample size,  sub-settings unique ID (1-20), model type  and setting seed**. "
   ]
  },
  {
   "cell_type": "raw",
   "metadata": {},
   "source": [
    "import os\n",
    "import numpy as np\n",
    "import random\n",
    "import pickle as pkl\n",
    "random.seed(123)\n",
    "best_model_param = pkl.load(open('selected_hyperparam', 'rb'))\n",
    "best_model_param = [best_model_param['k'].values[0],\\\n",
    "                    best_model_param['lambda'].values[0],\\\n",
    "                    best_model_param['upsilon'].values[0]]\n",
    "h_prop = 0.1    # holdout proportion of test sample data to compute LLPD\n",
    "nsample_o = 200 # number of posterior sample \n",
    "\n",
    "# command for server\n",
    "command_server = 'module purge ; module load slurm gcc python3 ; OMP_NUM_THREADS=1 python3 component_contribution_fit.py '\n",
    "setting = []\n",
    "seedid = 0. ;\n",
    "\n",
    "# generates setting and corresponding command script\n",
    "# mtype: variable for 6 model type including full model \n",
    "for mtype in range(6):\n",
    "    for sid in range(20):\n",
    "        seedid = seedid + 1.\n",
    "        a = command_server + ' '.join(list(map(str,   best_model_param + [h_prop, nsample_o, sid + 1,mtype, seedid] )))    \n",
    "        setting.append((a + ' > logfile/{}.log 2>&1').format(int(seedid)))\n",
    "\n",
    "# save command \n",
    "fname = \"mem_component_contribution\"\n",
    "with open(fname, 'w') as filehandle:\n",
    "    filehandle.writelines(\"%s\\n\" % place for place in setting)"
   ]
  },
  {
   "cell_type": "markdown",
   "metadata": {},
   "source": [
    "\n",
    "#### Parameter estimation \n",
    "We run the script on server using the command:\n",
    "*sbatch -N [#node] -p [#partition] disBatch.py -t [#task on each node] [script_file]*\n",
    "Example: *sbatch -N 10 -p ccm disBatch.py -t 25 mem_component_contribution*\n",
    "\n",
    "\n",
    "\n",
    "\n",
    "#### Model output analysis\n",
    "Evaluate each of the **component excluded generative model** based on the $LLPD_o$. Let us consider our model output is saved in the folder **CContribution**. To compare the model, we load the output file and compute the $LLPD_o$ for each model. "
   ]
  },
  {
   "cell_type": "code",
   "execution_count": 1,
   "metadata": {},
   "outputs": [
    {
     "name": "stdout",
     "output_type": "stream",
     "text": [
      "Looking for files in: ['../results/component/models/30_0_10_model_nb_cvtest.pkl', '../results/component/models/30_4_16_model_nb_cvtest.pkl', '../results/component/models/30_0_4_model_nb_cvtest.pkl', '../results/component/models/30_1_1_model_nb_cvtest.pkl', '../results/component/models/30_0_5_model_nb_cvtest.pkl', '../results/component/models/30_2_19_model_nb_cvtest.pkl', '../results/component/models/30_0_19_model_nb_cvtest.pkl', '../results/component/models/30_2_10_model_nb_cvtest.pkl', '../results/component/models/30_5_2_model_nb_cvtest.pkl', '../results/component/models/30_5_8_model_nb_cvtest.pkl', '../results/component/models/30_0_9_model_nb_cvtest.pkl', '../results/component/models/30_4_19_model_nb_cvtest.pkl', '../results/component/models/30_5_7_model_nb_cvtest.pkl', '../results/component/models/30_4_3_model_nb_cvtest.pkl', '../results/component/models/30_1_4_model_nb_cvtest.pkl', '../results/component/models/30_2_17_model_nb_cvtest.pkl', '../results/component/models/30_5_5_model_nb_cvtest.pkl', '../results/component/models/30_0_14_model_nb_cvtest.pkl', '../results/component/models/30_2_13_model_nb_cvtest.pkl', '../results/component/models/30_0_15_model_nb_cvtest.pkl', '../results/component/models/30_0_0_model_nb_cvtest.pkl', '../results/component/models/30_1_16_model_nb_cvtest.pkl', '../results/component/models/30_1_12_model_nb_cvtest.pkl', '../results/component/models/30_5_19_model_nb_cvtest.pkl', '../results/component/models/30_3_5_model_nb_cvtest.pkl', '../results/component/models/30_4_13_model_nb_cvtest.pkl', '../results/component/models/30_4_4_model_nb_cvtest.pkl', '../results/component/models/30_1_0_model_nb_cvtest.pkl', '../results/component/models/30_3_19_model_nb_cvtest.pkl', '../results/component/models/30_0_3_model_nb_cvtest.pkl', '../results/component/models/30_3_12_model_nb_cvtest.pkl', '../results/component/models/30_2_6_model_nb_cvtest.pkl', '../results/component/models/30_0_17_model_nb_cvtest.pkl', '../results/component/models/30_3_18_model_nb_cvtest.pkl', '../results/component/models/30_0_13_model_nb_cvtest.pkl', '../results/component/models/30_1_15_model_nb_cvtest.pkl', '../results/component/models/30_2_5_model_nb_cvtest.pkl', '../results/component/models/30_4_10_model_nb_cvtest.pkl', '../results/component/models/30_2_14_model_nb_cvtest.pkl', '../results/component/models/30_1_3_model_nb_cvtest.pkl', '../results/component/models/30_2_0_model_nb_cvtest.pkl', '../results/component/models/30_5_1_model_nb_cvtest.pkl', '../results/component/models/30_4_11_model_nb_cvtest.pkl', '../results/component/models/30_0_1_model_nb_cvtest.pkl', '../results/component/models/30_1_18_model_nb_cvtest.pkl', '../results/component/models/30_0_16_model_nb_cvtest.pkl', '../results/component/models/30_2_9_model_nb_cvtest.pkl', '../results/component/models/30_4_7_model_nb_cvtest.pkl', '../results/component/models/30_4_2_model_nb_cvtest.pkl', '../results/component/models/30_1_19_model_nb_cvtest.pkl', '../results/component/models/30_1_8_model_nb_cvtest.pkl', '../results/component/models/30_4_17_model_nb_cvtest.pkl', '../results/component/models/30_4_9_model_nb_cvtest.pkl', '../results/component/models/30_3_8_model_nb_cvtest.pkl', '../results/component/models/30_0_8_model_nb_cvtest.pkl', '../results/component/models/30_3_0_model_nb_cvtest.pkl', '../results/component/models/30_5_11_model_nb_cvtest.pkl', '../results/component/models/30_5_14_model_nb_cvtest.pkl', '../results/component/models/30_2_18_model_nb_cvtest.pkl', '../results/component/models/30_2_12_model_nb_cvtest.pkl', '../results/component/models/30_4_0_model_nb_cvtest.pkl', '../results/component/models/30_4_5_model_nb_cvtest.pkl', '../results/component/models/30_0_12_model_nb_cvtest.pkl', '../results/component/models/30_1_6_model_nb_cvtest.pkl', '../results/component/models/30_2_15_model_nb_cvtest.pkl', '../results/component/models/30_4_12_model_nb_cvtest.pkl', '../results/component/models/30_3_11_model_nb_cvtest.pkl', '../results/component/models/30_5_4_model_nb_cvtest.pkl', '../results/component/models/30_4_14_model_nb_cvtest.pkl', '../results/component/models/30_4_18_model_nb_cvtest.pkl', '../results/component/models/30_5_0_model_nb_cvtest.pkl', '../results/component/models/30_5_12_model_nb_cvtest.pkl', '../results/component/models/30_5_10_model_nb_cvtest.pkl', '../results/component/models/30_4_15_model_nb_cvtest.pkl', '../results/component/models/30_3_4_model_nb_cvtest.pkl', '../results/component/models/30_0_18_model_nb_cvtest.pkl', '../results/component/models/30_4_1_model_nb_cvtest.pkl', '../results/component/models/30_1_11_model_nb_cvtest.pkl', '../results/component/models/30_5_15_model_nb_cvtest.pkl', '../results/component/models/30_2_16_model_nb_cvtest.pkl', '../results/component/models/30_2_11_model_nb_cvtest.pkl', '../results/component/models/30_1_10_model_nb_cvtest.pkl', '../results/component/models/30_2_1_model_nb_cvtest.pkl', '../results/component/models/30_1_5_model_nb_cvtest.pkl', '../results/component/models/30_3_6_model_nb_cvtest.pkl', '../results/component/models/30_3_1_model_nb_cvtest.pkl', '../results/component/models/30_5_6_model_nb_cvtest.pkl', '../results/component/models/30_5_9_model_nb_cvtest.pkl', '../results/component/models/30_3_7_model_nb_cvtest.pkl', '../results/component/models/30_3_16_model_nb_cvtest.pkl', '../results/component/models/30_3_2_model_nb_cvtest.pkl', '../results/component/models/30_2_2_model_nb_cvtest.pkl', '../results/component/models/30_1_9_model_nb_cvtest.pkl', '../results/component/models/30_3_17_model_nb_cvtest.pkl', '../results/component/models/30_3_14_model_nb_cvtest.pkl', '../results/component/models/30_3_10_model_nb_cvtest.pkl', '../results/component/models/30_2_4_model_nb_cvtest.pkl', '../results/component/models/30_1_2_model_nb_cvtest.pkl', '../results/component/models/30_3_9_model_nb_cvtest.pkl', '../results/component/models/30_1_17_model_nb_cvtest.pkl', '../results/component/models/30_2_7_model_nb_cvtest.pkl', '../results/component/models/30_5_13_model_nb_cvtest.pkl', '../results/component/models/30_1_14_model_nb_cvtest.pkl', '../results/component/models/30_5_3_model_nb_cvtest.pkl', '../results/component/models/30_0_11_model_nb_cvtest.pkl', '../results/component/models/30_3_3_model_nb_cvtest.pkl', '../results/component/models/30_4_8_model_nb_cvtest.pkl', '../results/component/models/30_3_13_model_nb_cvtest.pkl', '../results/component/models/30_1_7_model_nb_cvtest.pkl', '../results/component/models/30_5_16_model_nb_cvtest.pkl', '../results/component/models/30_0_2_model_nb_cvtest.pkl', '../results/component/models/30_5_17_model_nb_cvtest.pkl', '../results/component/models/30_0_6_model_nb_cvtest.pkl', '../results/component/models/30_2_8_model_nb_cvtest.pkl', '../results/component/models/30_4_6_model_nb_cvtest.pkl', '../results/component/models/30_0_7_model_nb_cvtest.pkl', '../results/component/models/30_2_3_model_nb_cvtest.pkl', '../results/component/models/30_3_15_model_nb_cvtest.pkl', '../results/component/models/30_1_13_model_nb_cvtest.pkl', '../results/component/models/30_5_18_model_nb_cvtest.pkl']\n",
      "Loaded files: ['../results/component/models/30_0_10_model_nb_cvtest.pkl', '../results/component/models/30_4_16_model_nb_cvtest.pkl', '../results/component/models/30_0_4_model_nb_cvtest.pkl', '../results/component/models/30_1_1_model_nb_cvtest.pkl', '../results/component/models/30_0_5_model_nb_cvtest.pkl', '../results/component/models/30_2_19_model_nb_cvtest.pkl', '../results/component/models/30_0_19_model_nb_cvtest.pkl', '../results/component/models/30_2_10_model_nb_cvtest.pkl', '../results/component/models/30_5_2_model_nb_cvtest.pkl', '../results/component/models/30_5_8_model_nb_cvtest.pkl', '../results/component/models/30_0_9_model_nb_cvtest.pkl', '../results/component/models/30_4_19_model_nb_cvtest.pkl', '../results/component/models/30_5_7_model_nb_cvtest.pkl', '../results/component/models/30_4_3_model_nb_cvtest.pkl', '../results/component/models/30_1_4_model_nb_cvtest.pkl', '../results/component/models/30_2_17_model_nb_cvtest.pkl', '../results/component/models/30_5_5_model_nb_cvtest.pkl', '../results/component/models/30_0_14_model_nb_cvtest.pkl', '../results/component/models/30_2_13_model_nb_cvtest.pkl', '../results/component/models/30_0_15_model_nb_cvtest.pkl', '../results/component/models/30_0_0_model_nb_cvtest.pkl', '../results/component/models/30_1_16_model_nb_cvtest.pkl', '../results/component/models/30_1_12_model_nb_cvtest.pkl', '../results/component/models/30_5_19_model_nb_cvtest.pkl', '../results/component/models/30_3_5_model_nb_cvtest.pkl', '../results/component/models/30_4_13_model_nb_cvtest.pkl', '../results/component/models/30_4_4_model_nb_cvtest.pkl', '../results/component/models/30_1_0_model_nb_cvtest.pkl', '../results/component/models/30_3_19_model_nb_cvtest.pkl', '../results/component/models/30_0_3_model_nb_cvtest.pkl', '../results/component/models/30_3_12_model_nb_cvtest.pkl', '../results/component/models/30_2_6_model_nb_cvtest.pkl', '../results/component/models/30_0_17_model_nb_cvtest.pkl', '../results/component/models/30_3_18_model_nb_cvtest.pkl', '../results/component/models/30_0_13_model_nb_cvtest.pkl', '../results/component/models/30_1_15_model_nb_cvtest.pkl', '../results/component/models/30_2_5_model_nb_cvtest.pkl', '../results/component/models/30_4_10_model_nb_cvtest.pkl', '../results/component/models/30_2_14_model_nb_cvtest.pkl', '../results/component/models/30_1_3_model_nb_cvtest.pkl', '../results/component/models/30_2_0_model_nb_cvtest.pkl', '../results/component/models/30_5_1_model_nb_cvtest.pkl', '../results/component/models/30_4_11_model_nb_cvtest.pkl', '../results/component/models/30_0_1_model_nb_cvtest.pkl', '../results/component/models/30_1_18_model_nb_cvtest.pkl', '../results/component/models/30_0_16_model_nb_cvtest.pkl', '../results/component/models/30_2_9_model_nb_cvtest.pkl', '../results/component/models/30_4_7_model_nb_cvtest.pkl', '../results/component/models/30_4_2_model_nb_cvtest.pkl', '../results/component/models/30_1_19_model_nb_cvtest.pkl', '../results/component/models/30_1_8_model_nb_cvtest.pkl', '../results/component/models/30_4_17_model_nb_cvtest.pkl', '../results/component/models/30_4_9_model_nb_cvtest.pkl', '../results/component/models/30_3_8_model_nb_cvtest.pkl', '../results/component/models/30_0_8_model_nb_cvtest.pkl', '../results/component/models/30_3_0_model_nb_cvtest.pkl', '../results/component/models/30_5_11_model_nb_cvtest.pkl', '../results/component/models/30_5_14_model_nb_cvtest.pkl', '../results/component/models/30_2_18_model_nb_cvtest.pkl', '../results/component/models/30_2_12_model_nb_cvtest.pkl', '../results/component/models/30_4_0_model_nb_cvtest.pkl', '../results/component/models/30_4_5_model_nb_cvtest.pkl', '../results/component/models/30_0_12_model_nb_cvtest.pkl', '../results/component/models/30_1_6_model_nb_cvtest.pkl', '../results/component/models/30_2_15_model_nb_cvtest.pkl', '../results/component/models/30_4_12_model_nb_cvtest.pkl', '../results/component/models/30_3_11_model_nb_cvtest.pkl', '../results/component/models/30_5_4_model_nb_cvtest.pkl', '../results/component/models/30_4_14_model_nb_cvtest.pkl', '../results/component/models/30_4_18_model_nb_cvtest.pkl', '../results/component/models/30_5_0_model_nb_cvtest.pkl', '../results/component/models/30_5_12_model_nb_cvtest.pkl', '../results/component/models/30_5_10_model_nb_cvtest.pkl', '../results/component/models/30_4_15_model_nb_cvtest.pkl', '../results/component/models/30_3_4_model_nb_cvtest.pkl', '../results/component/models/30_0_18_model_nb_cvtest.pkl', '../results/component/models/30_4_1_model_nb_cvtest.pkl', '../results/component/models/30_1_11_model_nb_cvtest.pkl', '../results/component/models/30_5_15_model_nb_cvtest.pkl', '../results/component/models/30_2_16_model_nb_cvtest.pkl', '../results/component/models/30_2_11_model_nb_cvtest.pkl', '../results/component/models/30_1_10_model_nb_cvtest.pkl', '../results/component/models/30_2_1_model_nb_cvtest.pkl', '../results/component/models/30_1_5_model_nb_cvtest.pkl', '../results/component/models/30_3_6_model_nb_cvtest.pkl', '../results/component/models/30_3_1_model_nb_cvtest.pkl', '../results/component/models/30_5_6_model_nb_cvtest.pkl', '../results/component/models/30_5_9_model_nb_cvtest.pkl', '../results/component/models/30_3_7_model_nb_cvtest.pkl', '../results/component/models/30_3_16_model_nb_cvtest.pkl', '../results/component/models/30_3_2_model_nb_cvtest.pkl', '../results/component/models/30_2_2_model_nb_cvtest.pkl', '../results/component/models/30_1_9_model_nb_cvtest.pkl', '../results/component/models/30_3_17_model_nb_cvtest.pkl', '../results/component/models/30_3_14_model_nb_cvtest.pkl', '../results/component/models/30_3_10_model_nb_cvtest.pkl', '../results/component/models/30_2_4_model_nb_cvtest.pkl', '../results/component/models/30_1_2_model_nb_cvtest.pkl', '../results/component/models/30_3_9_model_nb_cvtest.pkl', '../results/component/models/30_1_17_model_nb_cvtest.pkl', '../results/component/models/30_2_7_model_nb_cvtest.pkl', '../results/component/models/30_5_13_model_nb_cvtest.pkl', '../results/component/models/30_1_14_model_nb_cvtest.pkl', '../results/component/models/30_5_3_model_nb_cvtest.pkl', '../results/component/models/30_0_11_model_nb_cvtest.pkl', '../results/component/models/30_3_3_model_nb_cvtest.pkl', '../results/component/models/30_4_8_model_nb_cvtest.pkl', '../results/component/models/30_3_13_model_nb_cvtest.pkl', '../results/component/models/30_1_7_model_nb_cvtest.pkl', '../results/component/models/30_5_16_model_nb_cvtest.pkl', '../results/component/models/30_0_2_model_nb_cvtest.pkl', '../results/component/models/30_5_17_model_nb_cvtest.pkl', '../results/component/models/30_0_6_model_nb_cvtest.pkl', '../results/component/models/30_2_8_model_nb_cvtest.pkl', '../results/component/models/30_4_6_model_nb_cvtest.pkl', '../results/component/models/30_0_7_model_nb_cvtest.pkl', '../results/component/models/30_2_3_model_nb_cvtest.pkl', '../results/component/models/30_3_15_model_nb_cvtest.pkl', '../results/component/models/30_1_13_model_nb_cvtest.pkl', '../results/component/models/30_5_18_model_nb_cvtest.pkl']\n"
     ]
    }
   ],
   "source": [
    "## Load all the required python module for the analysis \n",
    "import glob \n",
    "import numpy as np \n",
    "import pandas as pd\n",
    "import matplotlib.pyplot as plt\n",
    "import seaborn as sns\n",
    "import hiplot as hip\n",
    "import os \n",
    "import pickle as pkl\n",
    "import copy \n",
    "%matplotlib inline\n",
    "## We have saved the variational posterior estimated from hyperparameter tuning in [HPcheck] folder \n",
    "#print(\"Current working directory:\", os.getcwd())  # Check where the script is running from\n",
    "fname_o = glob.glob('../results/component/models/*model_nb_cvtest.pkl') \n",
    "print(\"Looking for files in:\", fname_o)\n",
    "print(\"Loaded files:\", fname_o) #Check if the file is loaded"
   ]
  },
  {
   "cell_type": "code",
   "execution_count": 2,
   "metadata": {},
   "outputs": [
    {
     "name": "stdout",
     "output_type": "stream",
     "text": [
      "0\n",
      "20\n",
      "40\n",
      "60\n",
      "80\n",
      "100\n",
      "Processing complete!\n"
     ]
    }
   ],
   "source": [
    "# Extract model output and compute LLPD\n",
    "out = {}\n",
    "\n",
    "for i in range(len(fname_o)):\n",
    "    if (i % 20) == 0:\n",
    "        print(i)\n",
    "\n",
    "    # Load the model file\n",
    "    with open(fname_o[i], \"rb\") as file:\n",
    "        [holdout_mask, Yte_sample, llpd, n_test, l, m_seed, sp_mean,\n",
    "         sp_var, h_prop, uid, nsample_o, Yte_fit,\n",
    "         cv_test, Y, muest, Yte_cv, Yte_lpmf, kl_comp] = pkl.load(file)\n",
    "\n",
    "    se_index = holdout_mask == 1.\n",
    "\n",
    "    # Compute LLPD\n",
    "    temp_ll = cv_test[se_index]\n",
    "    temp_ll = np.mean(temp_ll)\n",
    "\n",
    "    # Extract mtype correctly\n",
    "    filename = os.path.basename(fname_o[i])  # Extract only the filename\n",
    "    filename_parts = filename.split('_')  # Split by '_'\n",
    "\n",
    "    if len(filename_parts) >= 3:\n",
    "        mtype = int(filename_parts[2])  # Extract the third part (e.g., \"10\" from \"30_0_10_model_nb_cvtest.pkl\")\n",
    "    else:\n",
    "        raise ValueError(f\"Unexpected filename format: {filename}\")\n",
    "\n",
    "    # Compute error\n",
    "    error = np.mean(np.power(Y - muest, 2)[se_index])\n",
    "\n",
    "    # Store results\n",
    "    out[i] = [i, l, sp_mean, sp_var, temp_ll, uid, mtype]\n",
    "\n",
    "print(\"Processing complete!\")\n"
   ]
  },
  {
   "cell_type": "code",
   "execution_count": 3,
   "metadata": {},
   "outputs": [
    {
     "name": "stdout",
     "output_type": "stream",
     "text": [
      "<class 'dict'>\n",
      "120\n",
      "[0, 100, 0.06059627021136009, 0.0408163265306122, -3.3357373475427203, 30, 0]\n"
     ]
    }
   ],
   "source": [
    "out = pkl.load(open('comparison_model', \"rb\"))\n",
    "print(type(out))  # Check if it's a dictionary or list\n",
    "print(len(out))   # Check number of elements\n",
    "print(out[0])     # Print one entry to inspect its structure\n"
   ]
  },
  {
   "cell_type": "code",
   "execution_count": 4,
   "metadata": {},
   "outputs": [
    {
     "name": "stdout",
     "output_type": "stream",
     "text": [
      "(120, 7)\n"
     ]
    }
   ],
   "source": [
    "out = pd.DataFrame.from_dict(out, orient='index')\n",
    "print(out.shape)  # Check if the shape matches (rows, columns)\n"
   ]
  },
  {
   "cell_type": "code",
   "execution_count": 6,
   "metadata": {},
   "outputs": [
    {
     "name": "stdout",
     "output_type": "stream",
     "text": [
      "    Index  rank    lambda   upsilon      llpd  uid  Model\n",
      "0       0   100  0.060596  0.040816 -3.335737   30      0\n",
      "1       1   100  0.060596  0.040816 -3.394061   30      4\n",
      "2       2   100  0.060596  0.040816 -3.351756   30      0\n",
      "3       3   100  0.060596  0.040816 -3.371079   30      1\n",
      "4       4   100  0.060596  0.040816 -3.317078   30      0\n",
      "5       5   100  0.060596  0.040816 -3.365383   30      2\n",
      "6       6   100  0.060596  0.040816 -3.336005   30      0\n",
      "7       7   100  0.060596  0.040816 -3.392644   30      2\n",
      "8       8   100  0.060596  0.040816 -3.346224   30      5\n",
      "9       9   100  0.060596  0.040816 -3.319387   30      5\n",
      "10     10   100  0.060596  0.040816 -3.376695   30      0\n",
      "11     11   100  0.060596  0.040816 -3.421014   30      4\n",
      "12     12   100  0.060596  0.040816 -3.345962   30      5\n",
      "13     13   100  0.060596  0.040816 -3.378402   30      4\n",
      "14     14   100  0.060596  0.040816 -3.350975   30      1\n",
      "15     15   100  0.060596  0.040816 -3.364605   30      2\n",
      "16     16   100  0.060596  0.040816 -3.325935   30      5\n",
      "17     17   100  0.060596  0.040816 -3.328903   30      0\n",
      "18     18   100  0.060596  0.040816 -3.374032   30      2\n",
      "19     19   100  0.060596  0.040816 -3.339409   30      0\n"
     ]
    }
   ],
   "source": [
    "# Load the data\n",
    "out = pkl.load(open('comparison_model', \"rb\"))\n",
    "\n",
    "# Convert the dictionary to a DataFrame more carefully\n",
    "# Method 1: Try converting dict values to DataFrame directly\n",
    "out_df = pd.DataFrame.from_dict(out, orient='index', columns=['Index','rank','lambda','upsilon','llpd','uid','Model'])\n",
    "\n",
    "# If Method 1 doesn't work, try Method 2:\n",
    "# First convert dict to list of lists\n",
    "data_list = [value for value in out.values()]\n",
    "out_df = pd.DataFrame(data_list, columns=['Index','rank','lambda','upsilon','llpd','uid','Model'])\n",
    "\n",
    "# Display the first 20 rows\n",
    "print(out_df.head(20))"
   ]
  },
  {
   "cell_type": "markdown",
   "metadata": {},
   "source": [
    "<font color=blue>**Our analysis suggest that the model 0, i.e., MEM is best with highest out of sample LLPD$_o$.** </font>"
   ]
  },
  {
   "cell_type": "code",
   "execution_count": 8,
   "metadata": {},
   "outputs": [
    {
     "name": "stdout",
     "output_type": "stream",
     "text": [
      "  Model      llpd          \n",
      "             mean       std\n",
      "0     0 -3.336061  0.019514\n",
      "1     1 -3.341048  0.020001\n",
      "2     2 -3.358865  0.022243\n",
      "3     3 -3.356661  0.021063\n",
      "4     4 -3.403350  0.017467\n",
      "5     5 -3.339607  0.018942\n"
     ]
    }
   ],
   "source": [
    "# First, convert the dictionary to a DataFrame\n",
    "out_df = pd.DataFrame.from_dict(out, orient='index')\n",
    "\n",
    "# Now rename the columns\n",
    "out_df.columns = ['Index', 'rank', 'lambda', 'upsilon', 'llpd', 'uid', 'Model']\n",
    "\n",
    "# Now we can perform the groupby operation\n",
    "results = out_df.groupby(['Model'], as_index=False).agg({'llpd': ['mean', 'std']})\n",
    "\n",
    "print(results)"
   ]
  },
  {
   "cell_type": "code",
   "execution_count": 10,
   "metadata": {},
   "outputs": [
    {
     "name": "stdout",
     "output_type": "stream",
     "text": [
      "\\begin{tabular}{lrrrrrr}\n",
      "\\toprule\n",
      "{} &       0 &       1 &       2 &       3 &       4 &       5 \\\\\n",
      "\\midrule\n",
      "\\textbf{Model} &  0.0000 &  1.0000 &  2.0000 &  3.0000 &  4.0000 &  5.0000 \\\\\n",
      "\\textbf{llpd } & -3.3361 & -3.3410 & -3.3589 & -3.3567 & -3.4033 & -3.3396 \\\\\n",
      "\\bottomrule\n",
      "\\end{tabular}\n",
      "\n"
     ]
    }
   ],
   "source": [
    "# Convert dictionary to DataFrame\n",
    "out_df = pd.DataFrame.from_dict(out, orient='index')\n",
    "\n",
    "# Rename columns\n",
    "out_df.columns = ['Index', 'rank', 'lambda', 'upsilon', 'llpd', 'uid', 'Model']\n",
    "\n",
    "# Now perform the groupby and transform to get the LaTeX output\n",
    "out_sub = out_df.groupby(['Model'], as_index=False).mean()[['Model','llpd']].transpose()\n",
    "\n",
    "# Print LaTeX formatted table\n",
    "print(out_sub.to_latex(float_format=\"%.4f\", bold_rows=True))"
   ]
  },
  {
   "cell_type": "code",
   "execution_count": 11,
   "metadata": {},
   "outputs": [
    {
     "data": {
      "text/plain": [
       "(100, 18, 0.06059627021136009, 0.0408163265306122)"
      ]
     },
     "execution_count": 11,
     "metadata": {},
     "output_type": "execute_result"
    }
   ],
   "source": [
    "l,m_seed,sp_mean, sp_var"
   ]
  },
  {
   "cell_type": "code",
   "execution_count": 12,
   "metadata": {},
   "outputs": [
    {
     "name": "stdout",
     "output_type": "stream",
     "text": [
      "Best Model Configuration:\n",
      "Model Type (mtype): 5\n",
      "Model Seed (mseed): 86\n",
      "LLPD Score: -3.304545\n",
      "Other parameters:\n",
      "  Lambda: 0.06059627021136009\n",
      "  Upsilon: 0.0408163265306122\n",
      "  Rank: 100\n"
     ]
    }
   ],
   "source": [
    "# Convert dictionary to DataFrame\n",
    "out_df = pd.DataFrame.from_dict(out, orient='index')\n",
    "out_df.columns = ['Index', 'rank', 'lambda', 'upsilon', 'llpd', 'uid', 'Model']\n",
    "\n",
    "# Sort by LLPD in descending order (highest first) and get the first row\n",
    "best_model = out_df.sort_values('llpd', ascending=False).iloc[0]\n",
    "\n",
    "print(\"Best Model Configuration:\")\n",
    "print(f\"Model Type (mtype): {int(best_model['Model'])}\")\n",
    "print(f\"Model Seed (mseed): {int(best_model['Index'])}\")\n",
    "print(f\"LLPD Score: {best_model['llpd']:.6f}\")\n",
    "print(f\"Other parameters:\")\n",
    "print(f\"  Lambda: {best_model['lambda']}\")\n",
    "print(f\"  Upsilon: {best_model['upsilon']}\")\n",
    "print(f\"  Rank: {int(best_model['rank'])}\")"
   ]
  },
  {
   "cell_type": "code",
   "execution_count": 15,
   "metadata": {},
   "outputs": [
    {
     "name": "stdout",
     "output_type": "stream",
     "text": [
      "For index 86:\n",
      "Model Type (mtype): 5\n",
      "Model Seed (mseed): 6\n",
      "UID: 30\n",
      "\n",
      "Expected filename: 30_5_6_model_nb_cvtest.pkl\n"
     ]
    }
   ],
   "source": [
    "# Given values\n",
    "index = int(best_model['Index']) # your best model's index\n",
    "mtype = int(best_model['Model'])  # your best model's type\n",
    "uid = 30    # from the data\n",
    "\n",
    "# Calculate actual mseed (0-19)\n",
    "mseed = index % 20  # This gives us which run number it was within its mtype group\n",
    "\n",
    "print(f\"For index {index}:\")\n",
    "print(f\"Model Type (mtype): {mtype}\")\n",
    "print(f\"Model Seed (mseed): {mseed}\")\n",
    "print(f\"UID: {uid}\")\n",
    "print(f\"\\nExpected filename: {uid}_{mtype}_{mseed}_model_nb_cvtest.pkl\")"
   ]
  },
  {
   "cell_type": "code",
   "execution_count": 16,
   "metadata": {},
   "outputs": [
    {
     "name": "stdout",
     "output_type": "stream",
     "text": [
      "Type of data: <class 'dict'>\n",
      "Number of entries: 120\n",
      "\n",
      "Structure of each entry:\n",
      "\n",
      "Entry 0:\n",
      "Raw data: [0, 100, 0.06059627021136009, 0.0408163265306122, -3.3357373475427203, 30, 0]\n",
      "Interpreted as:\n",
      "  Index: 0\n",
      "  Rank: 100\n",
      "  Lambda: 0.06059627021136009\n",
      "  Upsilon: 0.0408163265306122\n",
      "  LLPD: -3.3357373475427203\n",
      "  UID: 30\n",
      "  Model Type: 0\n",
      "\n",
      "Entry 1:\n",
      "Raw data: [1, 100, 0.06059627021136009, 0.0408163265306122, -3.3940612259344527, 30, 4]\n",
      "Interpreted as:\n",
      "  Index: 1\n",
      "  Rank: 100\n",
      "  Lambda: 0.06059627021136009\n",
      "  Upsilon: 0.0408163265306122\n",
      "  LLPD: -3.3940612259344527\n",
      "  UID: 30\n",
      "  Model Type: 4\n",
      "\n",
      "Entry 2:\n",
      "Raw data: [2, 100, 0.06059627021136009, 0.0408163265306122, -3.351755606155532, 30, 0]\n",
      "Interpreted as:\n",
      "  Index: 2\n",
      "  Rank: 100\n",
      "  Lambda: 0.06059627021136009\n",
      "  Upsilon: 0.0408163265306122\n",
      "  LLPD: -3.351755606155532\n",
      "  UID: 30\n",
      "  Model Type: 0\n",
      "\n",
      "Unique Model Types: [0, 1, 2, 3, 4, 5]\n",
      "Unique UIDs: [30]\n"
     ]
    }
   ],
   "source": [
    "# Load and inspect comparison_model file\n",
    "import pickle as pkl\n",
    "\n",
    "# Load the data\n",
    "with open('comparison_model', 'rb') as f:\n",
    "    data = pkl.load(f)\n",
    "\n",
    "# Print general information\n",
    "print(\"Type of data:\", type(data))\n",
    "print(\"Number of entries:\", len(data))\n",
    "print(\"\\nStructure of each entry:\")\n",
    "for i in range(3):  # Show first 3 entries\n",
    "    print(f\"\\nEntry {i}:\")\n",
    "    print(f\"Raw data: {data[i]}\")\n",
    "    print(\"Interpreted as:\")\n",
    "    print(f\"  Index: {data[i][0]}\")\n",
    "    print(f\"  Rank: {data[i][1]}\")\n",
    "    print(f\"  Lambda: {data[i][2]}\")\n",
    "    print(f\"  Upsilon: {data[i][3]}\")\n",
    "    print(f\"  LLPD: {data[i][4]}\")\n",
    "    print(f\"  UID: {data[i][5]}\")\n",
    "    print(f\"  Model Type: {data[i][6]}\")\n",
    "\n",
    "print(\"\\nUnique Model Types:\", sorted(set(data[i][6] for i in range(len(data)))))\n",
    "print(\"Unique UIDs:\", sorted(set(data[i][5] for i in range(len(data)))))"
   ]
  }
 ],
 "metadata": {
  "kernelspec": {
   "display_name": "Python 3",
   "language": "python",
   "name": "python3"
  },
  "language_info": {
   "codemirror_mode": {
    "name": "ipython",
    "version": 3
   },
   "file_extension": ".py",
   "mimetype": "text/x-python",
   "name": "python",
   "nbconvert_exporter": "python",
   "pygments_lexer": "ipython3",
   "version": "3.7.12"
  }
 },
 "nbformat": 4,
 "nbformat_minor": 4
}
